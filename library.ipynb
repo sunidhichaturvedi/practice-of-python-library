{
 "cells": [
  {
   "cell_type": "code",
   "execution_count": 2,
   "metadata": {},
   "outputs": [
    {
     "name": "stdout",
     "output_type": "stream",
     "text": [
      "[5 6 1 3 4 2]\n"
     ]
    }
   ],
   "source": [
    "import numpy as np\n",
    "arr=np.array([1,2,3,4,5,6])\n",
    "np.random.shuffle(arr)\n",
    "print(arr)"
   ]
  },
  {
   "cell_type": "code",
   "execution_count": 3,
   "metadata": {},
   "outputs": [
    {
     "name": "stdout",
     "output_type": "stream",
     "text": [
      "[2 1 6 5 4 3]\n"
     ]
    }
   ],
   "source": [
    "arr=np.array([1,2,3,4,5,6])\n",
    "np.random.shuffle(arr)\n",
    "print(arr)"
   ]
  },
  {
   "cell_type": "code",
   "execution_count": 4,
   "metadata": {},
   "outputs": [
    {
     "name": "stdout",
     "output_type": "stream",
     "text": [
      "[1 2 2 3 3 4 5 1]\n"
     ]
    }
   ],
   "source": [
    "arr1=np.array([1,2,2,3,3,4,5])\n",
    "x=np.resize(arr1,(2,2,2))\n",
    "print(np.ravel(x,order=\"A\"))"
   ]
  },
  {
   "cell_type": "code",
   "execution_count": null,
   "metadata": {},
   "outputs": [
    {
     "name": "stdout",
     "output_type": "stream",
     "text": [
      "[[1 2 3]\n",
      " [4 5 6]]\n",
      "<class 'numpy.matrix'>\n"
     ]
    }
   ],
   "source": [
    "matrix=np.matrix([[1,2,3],[4,5,6]])\n",
    "print(matrix)\n",
    "print(type(matrix))\n"
   ]
  },
  {
   "cell_type": "code",
   "execution_count": 11,
   "metadata": {},
   "outputs": [
    {
     "name": "stdout",
     "output_type": "stream",
     "text": [
      "[[19 22]\n",
      " [43 50]]\n"
     ]
    }
   ],
   "source": [
    "var1=np.matrix([[1,2],[3,4]])\n",
    "var2=np.matrix([[5,6],[7,8]])\n",
    "print(var1.dot(var2))\n"
   ]
  },
  {
   "cell_type": "code",
   "execution_count": null,
   "metadata": {},
   "outputs": [
    {
     "name": "stdout",
     "output_type": "stream",
     "text": [
      "[[1 3]\n",
      " [2 4]]\n",
      "[[1 3]\n",
      " [2 4]]\n"
     ]
    }
   ],
   "source": [
    "var1=np.matrix([[1,2],[3,4]])\n",
    "print(np.transpose(var1))\n",
    "print(var1.T)#another way to transpose matrix"
   ]
  },
  {
   "cell_type": "code",
   "execution_count": 16,
   "metadata": {},
   "outputs": [
    {
     "name": "stdout",
     "output_type": "stream",
     "text": [
      "[[1 3]\n",
      " [2 4]]\n",
      "\n",
      "[[1 3]\n",
      " [2 4]]\n"
     ]
    }
   ],
   "source": [
    "var1=np.matrix([[1,2],[3,4]])\n",
    "print(np.swapaxes(var1,0,1))\n",
    "print()\n",
    "print(np.swapaxes(var1,1,0))\n"
   ]
  },
  {
   "cell_type": "code",
   "execution_count": 26,
   "metadata": {},
   "outputs": [
    {
     "name": "stdout",
     "output_type": "stream",
     "text": [
      "[[ 0.25  1.   -2.25]\n",
      " [-0.5  -0.5   2.  ]\n",
      " [ 0.25 -0.   -0.25]]\n",
      "\n",
      "[[14 24 38]\n",
      " [20 32 56]\n",
      " [10 16 26]]\n",
      "\n",
      "8.000000000000002\n"
     ]
    }
   ],
   "source": [
    "var1=np.matrix([[1,2,7],[3,4,5],[1,2,3]])\n",
    "print(np.linalg.inv(var1))\n",
    "print()\n",
    "print(np.linalg.matrix_power(var1,2))#for power of matrix\n",
    "print()\n",
    "print(np.linalg.det(var1))\n"
   ]
  }
 ],
 "metadata": {
  "kernelspec": {
   "display_name": "Python 3",
   "language": "python",
   "name": "python3"
  },
  "language_info": {
   "codemirror_mode": {
    "name": "ipython",
    "version": 3
   },
   "file_extension": ".py",
   "mimetype": "text/x-python",
   "name": "python",
   "nbconvert_exporter": "python",
   "pygments_lexer": "ipython3",
   "version": "3.13.2"
  }
 },
 "nbformat": 4,
 "nbformat_minor": 2
}
